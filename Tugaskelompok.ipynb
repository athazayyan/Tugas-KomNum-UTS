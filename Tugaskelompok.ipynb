{
 "cells": [
  {
   "cell_type": "code",
   "execution_count": 1,
   "metadata": {},
   "outputs": [
    {
     "name": "stdout",
     "output_type": "stream",
     "text": [
      "hellp\n"
     ]
    }
   ],
   "source": [
    "print(\"hellp\")"
   ]
  },
  {
   "cell_type": "code",
   "execution_count": 39,
   "metadata": {},
   "outputs": [
    {
     "name": "stdout",
     "output_type": "stream",
     "text": [
      "\n",
      "0 -2.0   9.3441   7.14563 66.76944\n",
      "1 -1.7   7.1456258   5.43791 38.85729\n",
      "2 -1.4   5.4379135   4.0941 22.26336\n",
      "3 -1.1   4.0940994   3.02011 12.36465\n",
      "4 -0.8   3.0201148   2.14621 6.48179\n",
      "5 -0.5   2.1462078   1.42066 3.04903\n",
      "6 -0.2   1.4206576   0.80511 1.14379\n",
      "7 0.1   0.8051136   0.27114 0.2183\n",
      "8 0.4   0.2711387   -0.20235 -0.05487\n",
      "9 0.7   -0.2023529   -0.631 0.12768\n",
      "10 1.0   -0.6309963   -1.02638 0.64765\n",
      "Akar ditemukan pada x = 0.7\n",
      "Plot Style Artis mau?\n"
     ]
    },
    {
     "data": {
      "image/png": "[encoded data removed]",
      "text/plain": [
       "<Figure size 500x270 with 1 Axes>"
      ]
     },
     "metadata": {},
     "output_type": "display_data"
    }
   ],
   "source": [
    "import math\n",
    "import matplotlib.pyplot as plt\n",
    "import numpy as np\n",
    "\n",
    "bawah = float(input(\"Masukkan batas bawah: \"))\n",
    "atas = float(input(\"Masukkan batas atas: \"))\n",
    "N = int(input(\"Masukkan Maksimum Iterasi: \"))\n",
    "print(\"\")\n",
    "\n",
    "h = float((atas - bawah) / N)\n",
    "i = 0\n",
    "hasil = None\n",
    "\n",
    "x_array = []\n",
    "fx1_array= []\n",
    "fx2_array = []\n",
    "fx3_array = []\n",
    "\n",
    "x_array1 = []\n",
    "fx1_array1= []\n",
    "fx2_array1 = []\n",
    "fx3_array1 = []\n",
    "\n",
    "input_string = input(\"Masukkan fungsi f(x): \")\n",
    "kode = f\"\"\"\n",
    "def f(x):\n",
    "    return {input_string}\n",
    "\"\"\"\n",
    "exec(kode)  \n",
    "\n",
    "while i <= N:\n",
    "    x = bawah + (i * h)\n",
    "    fx1 = f(x)\n",
    "    fx2 = f(bawah + ((i + 1) * h))\n",
    "    fx3 = fx1 * fx2\n",
    "    \n",
    "    x_array.append(x)\n",
    "    fx1_array.append(fx1)\n",
    "    fx2_array.append(fx2)\n",
    "    fx3_array.append(fx3)\n",
    "    x_array1.append(abs(x))\n",
    "    fx1_array1.append(abs(fx1))\n",
    "    fx2_array1.append(abs(fx2))\n",
    "    fx3_array1.append(abs(fx3))\n",
    "    if fx1 == 0:\n",
    "        hasil = x\n",
    "    elif fx1 * fx2 < 0:\n",
    "        if abs(fx1) < abs(fx2):\n",
    "            hasil = x\n",
    "        else:\n",
    "            hasil = x + h\n",
    "    \n",
    "    print(i, round(x, 2), \" \", round(fx1, 7), \" \", round(fx2, 5), round(fx3, 5))\n",
    "    i += 1\n",
    "\n",
    "if hasil is not None:\n",
    "    print(\"Akar ditemukan pada x =\", hasil)\n",
    "else:\n",
    "    print(\"Akar tidak ditemukan dalam batas iterasi yang diberikan.\")\n",
    "\n",
    "def Plot_Style_Artis():\n",
    "    fig, ax = plt.subplots(figsize=(5, 2.7))\n",
    "    x = np.arange(len(fx1_array1))\n",
    "    ax.plot(x, x_array1, color='blue', linewidth=3, linestyle='--')\n",
    "    l, = ax.plot(x, fx1_array1, color='orange', linewidth=2)\n",
    "    l2, = ax.plot(x, fx2_array1, color='red', linewidth=2)\n",
    "    l.set_linestyle(':')\n",
    "    l2.set_linestyle('-')\n",
    "    plt.show()\n",
    "\n",
    "print(\"Plot Style Artis mau?\")\n",
    "inputan = input(\"y/n: \")\n",
    "if inputan == \"y\":\n",
    "    Plot_Style_Artis()\n",
    "    plt.show()\n"
   ]
  }
 ],
 "metadata": {
  "kernelspec": {
   "display_name": "Python 3",
   "language": "python",
   "name": "python3"
  },
  "language_info": {
   "codemirror_mode": {
    "name": "ipython",
    "version": 3
   },
   "file_extension": ".py",
   "mimetype": "text/x-python",
   "name": "python",
   "nbconvert_exporter": "python",
   "pygments_lexer": "ipython3",
   "version": "3.12.6"
  }
 },
 "nbformat": 4,
 "nbformat_minor": 2
}
