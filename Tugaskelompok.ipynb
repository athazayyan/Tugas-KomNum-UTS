{
 "cells": [
  {
   "cell_type": "code",
   "execution_count": 1,
   "metadata": {},
   "outputs": [
    {
     "name": "stdout",
     "output_type": "stream",
     "text": [
      "hellp\n"
     ]
    }
   ],
   "source": [
    "print(\"hellp\")"
   ]
  },
  {
   "cell_type": "code",
   "execution_count": 7,
   "metadata": {},
   "outputs": [
    {
     "name": "stdout",
     "output_type": "stream",
     "text": [
      "\n",
      "0 -2.0   9.3890561   8.58589 80.61344\n",
      "1 -1.9   8.5858944   7.84965 67.39624\n",
      "2 -1.8   7.8496475   7.17395 56.31296\n",
      "3 -1.7   7.1739474   6.55303 47.01111\n",
      "4 -1.6   6.5530324   5.98169 39.1982\n",
      "5 -1.5   5.9816891   5.4552 32.63131\n",
      "6 -1.4   5.4552   4.9693 27.10851\n",
      "7 -1.3   4.9692967   4.52012 22.4618\n",
      "8 -1.2   4.5201169   4.10417 18.55131\n",
      "9 -1.1   4.104166   3.71828 15.26045\n",
      "10 -1.0   3.7182818   3.3596 12.49195\n",
      "Akar tidak ditemukan dalam batas iterasi yang diberikan.\n",
      "Plot Style Artis mau?\n"
     ]
    },
    {
     "data": {
      "image/png": "[encoded data removed]",
      "text/plain": [
       "<Figure size 500x270 with 1 Axes>"
      ]
     },
     "metadata": {},
     "output_type": "display_data"
    }
   ],
   "source": [
    "import math\n",
    "import matplotlib.pyplot as plt\n",
    "import numpy as np\n",
    "\n",
    "bawah = float(input(\"Masukkan batas bawah: \"))\n",
    "atas = float(input(\"Masukkan batas atas: \"))\n",
    "N = int(input(\"Masukkan Maksimum Iterasi: \"))\n",
    "print(\"\")\n",
    "\n",
    "\n",
    "\n",
    "h = float((atas - bawah) / N)\n",
    "i = 0\n",
    "hasil = None\n",
    "\n",
    "x_array = []\n",
    "fx1_array= []\n",
    "fx2_array = []\n",
    "fx3_array = []\n",
    "\n",
    "def f(x):\n",
    "    return math.exp(-x) - x\n",
    "\n",
    "while i <= N:\n",
    "    x = bawah + (i * h)\n",
    "    fx1 = f(x)\n",
    "    fx2 = f(bawah + ((i + 1) * h))\n",
    "    fx3 = fx1 * fx2\n",
    "    \n",
    "    x_array.append(x)\n",
    "    fx1_array.append(fx1)\n",
    "    fx2_array.append(fx2)\n",
    "    fx3_array.append(fx3)\n",
    "    \n",
    "    if fx1 == 0:\n",
    "        hasil = x\n",
    "    elif fx1 * fx2 < 0:\n",
    "        if abs(fx1) < abs(fx2):\n",
    "            hasil = x\n",
    "        else:\n",
    "            hasil = x + h\n",
    "    \n",
    "    print(i, round(x, 2), \" \", round(fx1, 7), \" \", round(fx2, 5), round(fx3, 5))\n",
    "    i += 1\n",
    "\n",
    "if hasil is not None:\n",
    "    print(\"Akar ditemukan pada x =\", hasil)\n",
    "else:\n",
    "    print(\"Akar tidak ditemukan dalam batas iterasi yang diberikan.\")\n",
    "\n",
    "def Plot_Style_Artis():\n",
    "    fig, ax = plt.subplots(figsize=(5, 2.7))\n",
    "    x = np.arange(len(x_array))\n",
    "    ax.plot(x, np.cumsum(x_array), color='blue', linewidth=3, linestyle='--')\n",
    "    l, = ax.plot(x, np.cumsum(fx1_array), color='orange', linewidth=2)\n",
    "    l.set_linestyle(':')\n",
    "    plt.show()\n",
    "\n",
    "print(\"Plot Style Artis mau?\")\n",
    "inputan = input(\"y/n: \")\n",
    "if inputan == \"y\":\n",
    "    Plot_Style_Artis()\n",
    "    plt.show()\n"
   ]
  }
 ],
 "metadata": {
  "kernelspec": {
   "display_name": "Python 3",
   "language": "python",
   "name": "python3"
  },
  "language_info": {
   "codemirror_mode": {
    "name": "ipython",
    "version": 3
   },
   "file_extension": ".py",
   "mimetype": "text/x-python",
   "name": "python",
   "nbconvert_exporter": "python",
   "pygments_lexer": "ipython3",
   "version": "3.12.6"
  }
 },
 "nbformat": 4,
 "nbformat_minor": 2
}
